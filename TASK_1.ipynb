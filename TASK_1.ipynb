{
  "nbformat": 4,
  "nbformat_minor": 0,
  "metadata": {
    "colab": {
      "provenance": []
    },
    "kernelspec": {
      "name": "python3",
      "display_name": "Python 3"
    },
    "language_info": {
      "name": "python"
    }
  },
  "cells": [
    {
      "cell_type": "code",
      "execution_count": 1,
      "metadata": {
        "id": "l3I1V6bRAHKu"
      },
      "outputs": [],
      "source": [
        "import numpy as np\n",
        "import pandas as pd\n",
        "from sklearn.model_selection import train_test_split\n",
        "from sklearn.linear_model import LinearRegression\n",
        "from sklearn.metrics import mean_squared_error, r2_score"
      ]
    },
    {
      "cell_type": "code",
      "source": [
        "# Generate a sample dataset (or you can load your dataset here)\n",
        "data = {\n",
        "    \"SquareFootage\": np.random.randint(800, 4000, 100),\n",
        "    \"Bedrooms\": np.random.randint(1, 5, 100),\n",
        "    \"Bathrooms\": np.random.randint(1, 4, 100),\n",
        "    \"Price\": np.random.randint(100000, 1000000, 100),\n",
        "}\n",
        "df = pd.DataFrame(data)\n",
        "\n",
        "# Define the features and target\n",
        "X = df[[\"SquareFootage\", \"Bedrooms\", \"Bathrooms\"]]\n",
        "y = df[\"Price\"]\n",
        "\n",
        "# Split the data into training and testing sets\n",
        "X_train, X_test, y_train, y_test = train_test_split(X, y, test_size=0.2, random_state=42)\n",
        "\n",
        "# Initialize and train the linear regression model\n",
        "model = LinearRegression()\n",
        "model.fit(X_train, y_train)\n",
        "\n",
        "# Make predictions\n",
        "y_pred = model.predict(X_test)\n",
        "\n",
        "# Evaluate the model\n",
        "mse = mean_squared_error(y_test, y_pred)\n",
        "r2 = r2_score(y_test, y_pred)\n",
        "\n",
        "# Display the results\n",
        "print(\"Model Coefficients:\", model.coef_)\n",
        "print(\"Model Intercept:\", model.intercept_)\n",
        "print(\"Mean Squared Error:\", mse)\n",
        "print(\"R-squared:\", r2)\n",
        "\n",
        "# Example of predicting a single instance\n",
        "example = pd.DataFrame({\n",
        "    \"SquareFootage\": [1500],\n",
        "    \"Bedrooms\": [3],\n",
        "    \"Bathrooms\": [2],\n",
        "})\n",
        "predicted_price = model.predict(example)\n",
        "print(\"Predicted Price for Example:\", predicted_price[0])\n"
      ],
      "metadata": {
        "colab": {
          "base_uri": "https://localhost:8080/"
        },
        "id": "oLwXIcWLAOdi",
        "outputId": "1f72fb28-5819-4c06-84a0-fc078f8c2867"
      },
      "execution_count": 2,
      "outputs": [
        {
          "output_type": "stream",
          "name": "stdout",
          "text": [
            "Model Coefficients: [9.99110417e+00 3.97606204e+04 1.07168447e+03]\n",
            "Model Intercept: 388521.64024594903\n",
            "Mean Squared Error: 91648967000.40091\n",
            "R-squared: -0.03695387674464512\n",
            "Predicted Price for Example: 524933.5266630722\n"
          ]
        }
      ]
    }
  ]
}